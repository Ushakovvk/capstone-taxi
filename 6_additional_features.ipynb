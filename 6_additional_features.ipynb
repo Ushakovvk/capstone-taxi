{
 "cells": [
  {
   "cell_type": "markdown",
   "metadata": {},
   "source": [
    "# <center> Дипломный проект <br> Прогнозирование временных рядов трафика желтого такси Нью-Йорка"
   ]
  },
  {
   "cell_type": "markdown",
   "metadata": {},
   "source": [
    "## <center>6 Дополнительные признаки <br>"
   ]
  },
  {
   "cell_type": "markdown",
   "metadata": {},
   "source": [
    "На этой неделе нам предстоит попробовать добавить в регрессионную модель дополнительные признаки."
   ]
  },
  {
   "cell_type": "markdown",
   "metadata": {},
   "source": [
    "### Загрузка модулей"
   ]
  },
  {
   "cell_type": "code",
   "execution_count": 1,
   "metadata": {},
   "outputs": [
    {
     "name": "stderr",
     "output_type": "stream",
     "text": [
      "/home/mycacu/anaconda3/lib/python3.6/site-packages/sklearn/ensemble/weight_boosting.py:29: DeprecationWarning: numpy.core.umath_tests is an internal NumPy module and should not be imported. It will be removed in a future NumPy release.\n",
      "  from numpy.core.umath_tests import inner1d\n"
     ]
    }
   ],
   "source": [
    "import os\n",
    "from glob import glob\n",
    "import itertools\n",
    "import pandas as pd\n",
    "import statsmodels.api as sm\n",
    "from sklearn import linear_model, ensemble,metrics,neighbors\n",
    "from scipy import stats\n",
    "from tqdm import tqdm_notebook\n",
    "import pickle\n",
    "import holidays\n",
    "#import xgboost\n",
    "from sklearn.preprocessing import StandardScaler,MinMaxScaler"
   ]
  },
  {
   "cell_type": "code",
   "execution_count": 2,
   "metadata": {},
   "outputs": [
    {
     "name": "stdout",
     "output_type": "stream",
     "text": [
      "Populating the interactive namespace from numpy and matplotlib\n"
     ]
    }
   ],
   "source": [
    "%pylab inline"
   ]
  },
  {
   "cell_type": "markdown",
   "metadata": {},
   "source": [
    "### Загрузка данных"
   ]
  },
  {
   "cell_type": "markdown",
   "metadata": {},
   "source": [
    "На прошлой недели я использовал признаки:\n",
    "- идентификатор географической зоны — категориальный\n",
    "- год, месяц, день месяца, день недели, час — категориальный\n",
    "- синусы, косинусы и тренды\n",
    "- количество поездок из рассматриваемого района в моменты времени $y_T, y_{T-1}, \\dots, y_{T-K}$\n",
    "- количество поездок из рассматриваемого района в моменты времени $y_{T-24}, y_{T-48}, \\dots, y_{T-24*K_d}$\n",
    "- суммарное количество поездок из рассматриваемого района за предшествующие полдня, сутки, неделю, месяц\n",
    "- индикатор праздников\n",
    "\n",
    "Значения прогнозов ARIMA не использовал. Синусы, косинусы и тренды в этот раз использовать не буду, смысла в них для RandomForest нет."
   ]
  },
  {
   "cell_type": "markdown",
   "metadata": {},
   "source": [
    "#### Дополнительные признаки"
   ]
  },
  {
   "cell_type": "markdown",
   "metadata": {},
   "source": [
    "Я добавил следующие признаки:\n",
    "- средняя длительность поездок\n",
    "- среднее количество пассажиров\n",
    "- среднее расстояние по счётчику\n",
    "- количество завершенных поездок"
   ]
  },
  {
   "cell_type": "markdown",
   "metadata": {},
   "source": [
    "Новая функция обрабатывающая сырые данные (весь процесс обработки в другом notebook):"
   ]
  },
  {
   "cell_type": "code",
   "execution_count": 3,
   "metadata": {},
   "outputs": [],
   "source": [
    "def prepare_file(path_file):\n",
    "    #2015-16\n",
    "    date_month = pd.to_datetime(path_file[-11:-4])    \n",
    "    raw_data = pd.read_csv(path_file, parse_dates=['tpep_pickup_datetime', 'tpep_dropoff_datetime'])\n",
    "    # Долгота\n",
    "    xmin = -74.25559\n",
    "    xmax = -73.70001\n",
    "    # Широта\n",
    "    ymin = 40.49612\n",
    "    ymax = 40.91553\n",
    "\n",
    "    raw_data = raw_data[['tpep_pickup_datetime','tpep_dropoff_datetime',\n",
    "                         'passenger_count','trip_distance',\n",
    "                         'pickup_longitude', 'pickup_latitude', 'dropoff_longitude', 'dropoff_latitude', 'total_amount']]\n",
    "    raw_data['duration_trip'] = raw_data['tpep_dropoff_datetime'] - raw_data['tpep_pickup_datetime']\n",
    "    \n",
    "    pickup_data = raw_data\n",
    "    dropoff_data = raw_data\n",
    "    \n",
    "    pickup_data = pickup_data[\n",
    "        (pickup_data['tpep_dropoff_datetime'] != pickup_data['tpep_pickup_datetime']) & \n",
    "        (pickup_data['passenger_count'] != 0) &\n",
    "        (pickup_data['trip_distance'] != 0) &\n",
    "        (pickup_data['pickup_longitude'] >= xmin) &\n",
    "        (pickup_data['pickup_longitude'] <= xmax) &\n",
    "        (pickup_data['pickup_latitude'] >= ymin) &\n",
    "        (pickup_data['pickup_latitude'] <= ymax)]\n",
    "    \n",
    "    dropoff_data = dropoff_data[\n",
    "        (dropoff_data['tpep_dropoff_datetime'] != dropoff_data['tpep_pickup_datetime']) & \n",
    "        (dropoff_data['passenger_count'] != 0) &\n",
    "        (dropoff_data['trip_distance'] != 0)]\n",
    "    # Удаляем секунды и минуты\n",
    "    pickup_data['tpep_pickup_datetime'] = pickup_data['tpep_pickup_datetime'] - \\\n",
    "    pd.to_timedelta(pickup_data.tpep_pickup_datetime.dt.second, unit='s') - \\\n",
    "    pd.to_timedelta(pickup_data.tpep_pickup_datetime.dt.minute, unit='m')\n",
    "    \n",
    "    dropoff_data['tpep_dropoff_datetime'] = dropoff_data['tpep_dropoff_datetime'] - \\\n",
    "    pd.to_timedelta(dropoff_data.tpep_dropoff_datetime.dt.second, unit='s') - \\\n",
    "    pd.to_timedelta(dropoff_data.tpep_dropoff_datetime.dt.minute, unit='m')\n",
    "    # Добавляем регион\n",
    "    pickup_data['region'] = region(pickup_data['pickup_longitude'].values,pickup_data['pickup_latitude'].values)\n",
    "    dropoff_data['region'] = region(dropoff_data['dropoff_longitude'].values,dropoff_data['dropoff_latitude'].values)\n",
    "    #dropoff_data.loc[:,'region_pickup'] = region(dropoff_data['pickup_longitude'].values,dropoff_data['pickup_latitude'].values)\n",
    "    #dropoff_data = dropoff_data[(dropoff_data.region != dropoff_data.region_pickup)]\n",
    "    pickup_data['pickup_trips'] = 0\n",
    "    dropoff_data['dropoff_trips'] = 0\n",
    "    # Группируем и подсчитываем количество элементов в группах\n",
    "    pickup_data.duration_trip = pickup_data.duration_trip.astype('timedelta64[s]')    \n",
    "    pickup_group = pickup_data.groupby(by=['tpep_pickup_datetime','region'], as_index=False)\n",
    "    dropoff_group = dropoff_data.groupby(by=['tpep_dropoff_datetime','region'], as_index=False)\n",
    "    pickup_trips = pickup_group.pickup_trips.count()\n",
    "    dropoff_trips = dropoff_group.dropoff_trips.count()\n",
    "    duration_trips = pickup_group.duration_trip.mean()\n",
    "    passenger_count = pickup_group.passenger_count.mean()\n",
    "    distance_trips = pickup_group.trip_distance.mean()\n",
    "    pickup_trips['prop_trips'] = pickup_trips.apply(lambda x: x['pickup_trips'] / \n",
    "                                                    pickup_trips.loc[pickup_trips.tpep_pickup_datetime == x['tpep_pickup_datetime'],'pickup_trips'].sum(),axis=1)\n",
    "    # Создаем пустой месяц по всем регионам\n",
    "    month = []\n",
    "    for t in pd.date_range(start=date_month, end=date_month + DateOffset(months=1),freq='H',closed='left'):\n",
    "        for i in range(1,2501):\n",
    "            month.append([t,i])\n",
    "    month = pd.DataFrame(month, columns=['datetime','region'])\n",
    "    \n",
    "    train_data = pd.merge(month,pickup_trips,left_on=['datetime','region'], right_on=['tpep_pickup_datetime','region'],how='left')\n",
    "    train_data = pd.merge(train_data,dropoff_trips,left_on=['datetime','region'], right_on=['tpep_dropoff_datetime','region'],how='left')\n",
    "    train_data = pd.merge(train_data,duration_trips,left_on=['datetime','region'], right_on=['tpep_pickup_datetime','region'],how='left')\n",
    "    train_data = pd.merge(train_data,passenger_count,left_on=['datetime','region'], right_on=['tpep_pickup_datetime','region'],how='left')\n",
    "    train_data = pd.merge(train_data,distance_trips,left_on=['datetime','region'], right_on=['tpep_pickup_datetime','region'],how='left')\n",
    "    train_data = train_data[['datetime','region','pickup_trips','dropoff_trips','duration_trip','passenger_count','trip_distance']]\n",
    "    train_data.fillna(0,inplace=True)\n",
    "    train_data[['region','pickup_trips','dropoff_trips']] = train_data[['region','pickup_trips','dropoff_trips']].astype(int)\n",
    "    train_data.to_csv(path_or_buf = 'train_data_' + date_month.strftime(\"%Y-%m\") + '.csv', index=False)"
   ]
  },
  {
   "cell_type": "markdown",
   "metadata": {},
   "source": [
    "Загрузим обработанные такие способом данные"
   ]
  },
  {
   "cell_type": "code",
   "execution_count": 3,
   "metadata": {},
   "outputs": [],
   "source": [
    "with open('data/data.pkl','rb') as f:\n",
    "    data = pickle.load(f)\n",
    "with open('data/list_region.pkl','rb') as f:\n",
    "    list_region = pickle.load(f)"
   ]
  },
  {
   "cell_type": "markdown",
   "metadata": {},
   "source": [
    "В итоге получилась такая таблица:"
   ]
  },
  {
   "cell_type": "code",
   "execution_count": 4,
   "metadata": {},
   "outputs": [],
   "source": [
    "data = data[data.datetime >= '2016']"
   ]
  },
  {
   "cell_type": "code",
   "execution_count": 7,
   "metadata": {},
   "outputs": [
    {
     "name": "stdout",
     "output_type": "stream",
     "text": [
      "Имеем данные с 2016-01-01 00:00:00 по 2016-06-30 23:00:00\n"
     ]
    }
   ],
   "source": [
    "print(f'Имеем данные с {min(data.datetime)} по {max(data.datetime)}')"
   ]
  },
  {
   "cell_type": "markdown",
   "metadata": {},
   "source": [
    "### Модель на исходных признаках"
   ]
  },
  {
   "cell_type": "markdown",
   "metadata": {},
   "source": [
    "Создадим выборки с признаками из прошлой недели:\n",
    "- идентификатор географической зоны — категориальный\n",
    "- год, месяц, день месяца, день недели, час — категориальный\n",
    "- количество поездок из рассматриваемого района в моменты времени $y_T, y_{T-1}, \\dots, y_{T-K}$\n",
    "- количество поездок из рассматриваемого района в моменты времени $y_{T-24}, y_{T-48}, \\dots, y_{T-24*K_d}$\n",
    "- суммарное количество поездок из рассматриваемого района за предшествующие полдня, сутки, неделю, месяц\n",
    "- индикатор праздников"
   ]
  },
  {
   "cell_type": "code",
   "execution_count": 48,
   "metadata": {},
   "outputs": [
    {
     "data": {
      "application/vnd.jupyter.widget-view+json": {
       "model_id": "bba30bc134a244499fcad7d3a41c87e7",
       "version_major": 2,
       "version_minor": 0
      },
      "text/plain": [
       "HBox(children=(IntProgress(value=0, max=102), HTML(value='')))"
      ]
     },
     "metadata": {},
     "output_type": "display_data"
    },
    {
     "name": "stdout",
     "output_type": "stream",
     "text": [
      "\n"
     ]
    }
   ],
   "source": [
    "times = pd.DatetimeIndex(data.datetime.unique())\n",
    "us_holidays = holidays.US()\n",
    "K = 24\n",
    "K_d = 7\n",
    "samples = []\n",
    "for region in tqdm_notebook(list_region):\n",
    "    sample = pd.DataFrame(index=times)\n",
    "    sample['holiday'] = list(map(lambda x: x in us_holidays,times))\n",
    "    sample['region'] = region\n",
    "    #sample['region_x'] = region_xy(region)[0]\n",
    "    #sample['region_y'] = region_xy(region)[1]\n",
    "    sample['year'] = times.year\n",
    "    sample['month'] = times.month\n",
    "    sample['weekday'] = times.weekday\n",
    "    sample['hour'] = times.hour\n",
    "    for i in range(K):\n",
    "        sample[f'{i}_hours_ago'] = data.loc[data.region == region, 'pickup_trips'].shift(i).values\n",
    "    for i in range(1, K_d+1):\n",
    "        sample[f'{i*24}_hours_ago'] = data.loc[data.region == region, 'pickup_trips'].shift(i*24).values\n",
    "    sample['total_trips_half-day'] = data.loc[data.region == region, 'pickup_trips'].rolling(12).sum().values\n",
    "    sample['total_trips_day'] = data.loc[data.region == region, 'pickup_trips'].rolling(24).sum().values\n",
    "    sample['total_trips_week'] = data.loc[data.region == region, 'pickup_trips'].rolling(168).sum().values\n",
    "    for i in range(1,7):\n",
    "        sample[f'target_{i}'] = data.loc[data.region == region, 'pickup_trips'].shift(-i).values\n",
    "    samples.append(sample.dropna())\n",
    "samples = pd.concat(samples)"
   ]
  },
  {
   "cell_type": "code",
   "execution_count": 30,
   "metadata": {},
   "outputs": [],
   "source": [
    "def region_xy(region):\n",
    "    x = (regions.loc[region,'west'] - regions.loc[region,'east']) / 2 + regions.loc[region,'east']\n",
    "    y = (regions.loc[region,'south'] - regions.loc[region,'north']) / 2 + regions.loc[region,'north']\n",
    "    return x, y"
   ]
  },
  {
   "cell_type": "code",
   "execution_count": 7,
   "metadata": {},
   "outputs": [
    {
     "data": {
      "text/html": [
       "<div>\n",
       "<style scoped>\n",
       "    .dataframe tbody tr th:only-of-type {\n",
       "        vertical-align: middle;\n",
       "    }\n",
       "\n",
       "    .dataframe tbody tr th {\n",
       "        vertical-align: top;\n",
       "    }\n",
       "\n",
       "    .dataframe thead th {\n",
       "        text-align: right;\n",
       "    }\n",
       "</style>\n",
       "<table border=\"1\" class=\"dataframe\">\n",
       "  <thead>\n",
       "    <tr style=\"text-align: right;\">\n",
       "      <th></th>\n",
       "      <th>west</th>\n",
       "      <th>east</th>\n",
       "      <th>south</th>\n",
       "      <th>north</th>\n",
       "    </tr>\n",
       "    <tr>\n",
       "      <th>region</th>\n",
       "      <th></th>\n",
       "      <th></th>\n",
       "      <th></th>\n",
       "      <th></th>\n",
       "    </tr>\n",
       "  </thead>\n",
       "  <tbody>\n",
       "    <tr>\n",
       "      <th>1</th>\n",
       "      <td>-74.25559</td>\n",
       "      <td>-74.244478</td>\n",
       "      <td>40.496120</td>\n",
       "      <td>40.504508</td>\n",
       "    </tr>\n",
       "    <tr>\n",
       "      <th>2</th>\n",
       "      <td>-74.25559</td>\n",
       "      <td>-74.244478</td>\n",
       "      <td>40.504508</td>\n",
       "      <td>40.512896</td>\n",
       "    </tr>\n",
       "    <tr>\n",
       "      <th>3</th>\n",
       "      <td>-74.25559</td>\n",
       "      <td>-74.244478</td>\n",
       "      <td>40.512896</td>\n",
       "      <td>40.521285</td>\n",
       "    </tr>\n",
       "    <tr>\n",
       "      <th>4</th>\n",
       "      <td>-74.25559</td>\n",
       "      <td>-74.244478</td>\n",
       "      <td>40.521285</td>\n",
       "      <td>40.529673</td>\n",
       "    </tr>\n",
       "    <tr>\n",
       "      <th>5</th>\n",
       "      <td>-74.25559</td>\n",
       "      <td>-74.244478</td>\n",
       "      <td>40.529673</td>\n",
       "      <td>40.538061</td>\n",
       "    </tr>\n",
       "  </tbody>\n",
       "</table>\n",
       "</div>"
      ],
      "text/plain": [
       "            west       east      south      north\n",
       "region                                           \n",
       "1      -74.25559 -74.244478  40.496120  40.504508\n",
       "2      -74.25559 -74.244478  40.504508  40.512896\n",
       "3      -74.25559 -74.244478  40.512896  40.521285\n",
       "4      -74.25559 -74.244478  40.521285  40.529673\n",
       "5      -74.25559 -74.244478  40.529673  40.538061"
      ]
     },
     "execution_count": 7,
     "metadata": {},
     "output_type": "execute_result"
    }
   ],
   "source": [
    "regions = pd.read_csv('data/regions.csv',sep=';',index_col='region')\n",
    "regions.head()"
   ]
  },
  {
   "cell_type": "code",
   "execution_count": 49,
   "metadata": {},
   "outputs": [],
   "source": [
    "y_train = []\n",
    "y_control = []\n",
    "y_test = []\n",
    "X_train = samples.iloc[:,:-6][:'2016.04.30 17:00']\n",
    "X_control = samples.iloc[:,:-6]['2016.04.30 23:00':'2016.05.31 17:00']\n",
    "X_test = samples.iloc[:,:-6]['2016.05.31 23:00':'2016.06.30 17:00']\n",
    "\n",
    "for i in range(-6,0):\n",
    "    y_train.append(samples.iloc[:,i][:'2016.04.30 17:00'])\n",
    "    y_control.append(samples.iloc[:,i]['2016.04.30 23:00':'2016.05.31 17:00'])\n",
    "    y_test.append(samples.iloc[:,i]['2016.05.31 23:00':'2016.06.30 17:00'])"
   ]
  },
  {
   "cell_type": "markdown",
   "metadata": {},
   "source": [
    "И посчитаем ошибку на майских данных:"
   ]
  },
  {
   "cell_type": "code",
   "execution_count": 51,
   "metadata": {},
   "outputs": [
    {
     "data": {
      "application/vnd.jupyter.widget-view+json": {
       "model_id": "4934ee3d10114b0c82fcef6310a3bfda",
       "version_major": 2,
       "version_minor": 0
      },
      "text/plain": [
       "HBox(children=(IntProgress(value=0, max=6), HTML(value='')))"
      ]
     },
     "metadata": {},
     "output_type": "display_data"
    },
    {
     "name": "stdout",
     "output_type": "stream",
     "text": [
      "\n",
      "Ошибка прогноза: 19.6\n"
     ]
    }
   ],
   "source": [
    "Q_control = []\n",
    "for i in tqdm_notebook(range(6)):\n",
    "    model = ensemble.RandomForestRegressor(random_state=1,n_estimators=20, \n",
    "                                           max_features=int(len(X_train.columns)/3)+1,n_jobs=-1)\n",
    "    model.fit(X_train,y_train[i])\n",
    "    predict = model.predict(X_control)        \n",
    "    Q = metrics.mean_absolute_error(y_control[i], predict)\n",
    "    Q_control.append(Q)\n",
    "    \n",
    "Q_control = sum(Q_control) / 6\n",
    "print(f'Ошибка прогноза: {Q_control:.1f}')"
   ]
  },
  {
   "cell_type": "markdown",
   "metadata": {},
   "source": [
    "Посмотрим на важность признаков:"
   ]
  },
  {
   "cell_type": "code",
   "execution_count": 52,
   "metadata": {
    "scrolled": false
   },
   "outputs": [
    {
     "data": {
      "image/png": "[encoded data removed]",
      "text/plain": [
       "<Figure size 1152x720 with 1 Axes>"
      ]
     },
     "metadata": {},
     "output_type": "display_data"
    }
   ],
   "source": [
    "plt.figure(figsize=(16,10))\n",
    "plt.barh(X_train.columns, model.feature_importances_, align='center')\n",
    "plt.show()"
   ]
  },
  {
   "cell_type": "markdown",
   "metadata": {},
   "source": [
    "### Модель с дополнительными признаками"
   ]
  },
  {
   "cell_type": "markdown",
   "metadata": {},
   "source": [
    "Теперь добавим признаки:\n",
    "- средняя длительность поездок\n",
    "- среднее количество пассажиров\n",
    "- среднее расстояние по счётчику\n",
    "- количество завершенных поездок в данный час\n",
    "- количество завершенных поездок 24 часа назад"
   ]
  },
  {
   "cell_type": "code",
   "execution_count": 12,
   "metadata": {},
   "outputs": [
    {
     "data": {
      "application/vnd.jupyter.widget-view+json": {
       "model_id": "357510cab4fe45a4a99bdf51972877c7",
       "version_major": 2,
       "version_minor": 0
      },
      "text/plain": [
       "HBox(children=(IntProgress(value=0, max=102), HTML(value='')))"
      ]
     },
     "metadata": {},
     "output_type": "display_data"
    },
    {
     "name": "stdout",
     "output_type": "stream",
     "text": [
      "\n"
     ]
    }
   ],
   "source": [
    "times = pd.DatetimeIndex(data.datetime.unique())\n",
    "us_holidays = holidays.US()\n",
    "K = 24\n",
    "K_d = 7\n",
    "samples = []\n",
    "for region in tqdm_notebook(list_region):\n",
    "    sample = pd.DataFrame(index=times)\n",
    "    sample['holiday'] = list(map(lambda x: x in us_holidays,times))\n",
    "    sample['dropoff'] = data.loc[data.region == region, 'dropoff_trips'].values\n",
    "    sample['dropoff_24_hours_ago'] = data.loc[data.region == region, 'dropoff_trips'].shift(24).values\n",
    "    sample['duration_trip'] = data.loc[data.region == region, 'duration_trip'].values\n",
    "    sample['passenger_count'] = data.loc[data.region == region, 'passenger_count'].values\n",
    "    sample['trip_distance'] = data.loc[data.region == region, 'trip_distance'].values\n",
    "    sample['region'] = region\n",
    "    sample['year'] = times.year\n",
    "    sample['month'] = times.month\n",
    "    sample['weekday'] = times.weekday\n",
    "    sample['hour'] = times.hour\n",
    "    for i in range(K):\n",
    "        sample[f'{i}_hours_ago'] = data.loc[data.region == region, 'pickup_trips'].shift(i).values\n",
    "    for i in range(1, K_d+1):\n",
    "        sample[f'{i*24}_hours_ago'] = data.loc[data.region == region, 'pickup_trips'].shift(i*24).values\n",
    "    sample['total_trips_half-day'] = data.loc[data.region == region, 'pickup_trips'].rolling(12).sum().values\n",
    "    sample['total_trips_day'] = data.loc[data.region == region, 'pickup_trips'].rolling(24).sum().values\n",
    "    sample['total_trips_week'] = data.loc[data.region == region, 'pickup_trips'].rolling(168).sum().values\n",
    "    for i in range(1,7):\n",
    "        sample[f'target_{i}'] = data.loc[data.region == region, 'pickup_trips'].shift(-i).values\n",
    "    samples.append(sample.dropna())\n",
    "samples = pd.concat(samples)"
   ]
  },
  {
   "cell_type": "code",
   "execution_count": 13,
   "metadata": {},
   "outputs": [],
   "source": [
    "y_train = []\n",
    "y_control = []\n",
    "y_test = []\n",
    "X_train = samples.iloc[:,:-6][:'2016.04.30 17:00']\n",
    "X_control = samples.iloc[:,:-6]['2016.04.30 23:00':'2016.05.31 17:00']\n",
    "X_test = samples.iloc[:,:-6]['2016.05.31 23:00':'2016.06.30 17:00']\n",
    "\n",
    "for i in range(-6,0):\n",
    "    y_train.append(samples.iloc[:,i][:'2016.04.30 17:00'])\n",
    "    y_control.append(samples.iloc[:,i]['2016.04.30 23:00':'2016.05.31 17:00'])\n",
    "    y_test.append(samples.iloc[:,i]['2016.05.31 23:00':'2016.06.30 17:00'])"
   ]
  },
  {
   "cell_type": "markdown",
   "metadata": {},
   "source": [
    "Посчитаем ошибку на майских данных:"
   ]
  },
  {
   "cell_type": "code",
   "execution_count": 14,
   "metadata": {},
   "outputs": [
    {
     "data": {
      "application/vnd.jupyter.widget-view+json": {
       "model_id": "1473cee9d36845388b1fd6d44336a777",
       "version_major": 2,
       "version_minor": 0
      },
      "text/plain": [
       "HBox(children=(IntProgress(value=0, max=6), HTML(value='')))"
      ]
     },
     "metadata": {},
     "output_type": "display_data"
    },
    {
     "name": "stdout",
     "output_type": "stream",
     "text": [
      "\n",
      "Ошибка прогноза: 16.4\n"
     ]
    }
   ],
   "source": [
    "Q_control = []\n",
    "for i in tqdm_notebook(range(6)):\n",
    "    model = ensemble.RandomForestRegressor(random_state=1,n_estimators=100, \n",
    "                                           max_features=int(len(X_train.columns)/3)+1,n_jobs=-1)\n",
    "    model.fit(X_train,y_train[i])\n",
    "    predict = model.predict(X_control)        \n",
    "    Q = metrics.mean_absolute_error(y_control[i], predict)\n",
    "    Q_control.append(Q)\n",
    "    \n",
    "Q_control = sum(Q_control) / 6\n",
    "print(f'Ошибка прогноза: {Q_control:.1f}')"
   ]
  },
  {
   "cell_type": "markdown",
   "metadata": {},
   "source": [
    "Ошибка уменьшилась на 0.3 :)"
   ]
  },
  {
   "cell_type": "code",
   "execution_count": 15,
   "metadata": {},
   "outputs": [
    {
     "data": {
      "image/png": "[encoded data removed]",
      "text/plain": [
       "<Figure size 1152x720 with 1 Axes>"
      ]
     },
     "metadata": {},
     "output_type": "display_data"
    }
   ],
   "source": [
    "plt.figure(figsize=(16,10))\n",
    "plt.barh(X_train.columns, model.feature_importances_, align='center')\n",
    "plt.show()"
   ]
  },
  {
   "cell_type": "markdown",
   "metadata": {},
   "source": [
    "Новые признаки вносят небольшой вклад"
   ]
  },
  {
   "cell_type": "markdown",
   "metadata": {},
   "source": [
    "А теперь попробуем использовать количество завершенных поездок в моменты времени $y_T, y_{T-1}, \\dots, y_{T-K}$"
   ]
  },
  {
   "cell_type": "code",
   "execution_count": 5,
   "metadata": {},
   "outputs": [
    {
     "data": {
      "application/vnd.jupyter.widget-view+json": {
       "model_id": "eb83ae5d79d5408782af8d03c6d20065",
       "version_major": 2,
       "version_minor": 0
      },
      "text/plain": [
       "HBox(children=(IntProgress(value=0, max=102), HTML(value='')))"
      ]
     },
     "metadata": {},
     "output_type": "display_data"
    },
    {
     "name": "stdout",
     "output_type": "stream",
     "text": [
      "\n"
     ]
    }
   ],
   "source": [
    "times = pd.DatetimeIndex(data.datetime.unique())\n",
    "us_holidays = holidays.US()\n",
    "K = 24\n",
    "K_d = 7\n",
    "K_drop = 25\n",
    "samples = []\n",
    "for region in tqdm_notebook(list_region):\n",
    "    sample = pd.DataFrame(index=times)\n",
    "    sample['holiday'] = list(map(lambda x: x in us_holidays,times))\n",
    "    for i in range(K_drop):\n",
    "        sample[f'{i}_hours_ago_dropoff'] = data.loc[data.region == region, 'dropoff_trips'].shift(i).values\n",
    "    sample['duration_trip'] = data.loc[data.region == region, 'duration_trip'].values\n",
    "    sample['passenger_count'] = data.loc[data.region == region, 'passenger_count'].values\n",
    "    sample['trip_distance'] = data.loc[data.region == region, 'trip_distance'].values\n",
    "    sample['region'] = region\n",
    "    sample['year'] = times.year\n",
    "    sample['month'] = times.month\n",
    "    sample['weekday'] = times.weekday\n",
    "    sample['hour'] = times.hour\n",
    "    for i in range(K):\n",
    "        sample[f'{i}_hours_ago'] = data.loc[data.region == region, 'pickup_trips'].shift(i).values\n",
    "    for i in range(1, K_d+1):\n",
    "        sample[f'{i*24}_hours_ago'] = data.loc[data.region == region, 'pickup_trips'].shift(i*24).values\n",
    "    sample['total_trips_half-day'] = data.loc[data.region == region, 'pickup_trips'].rolling(12).sum().values\n",
    "    sample['total_trips_day'] = data.loc[data.region == region, 'pickup_trips'].rolling(24).sum().values\n",
    "    sample['total_trips_week'] = data.loc[data.region == region, 'pickup_trips'].rolling(168).sum().values\n",
    "    for i in range(1,7):\n",
    "        sample[f'target_{i}'] = data.loc[data.region == region, 'pickup_trips'].shift(-i).values\n",
    "    samples.append(sample.dropna())\n",
    "samples = pd.concat(samples)"
   ]
  },
  {
   "cell_type": "code",
   "execution_count": 6,
   "metadata": {},
   "outputs": [],
   "source": [
    "y_train = []\n",
    "y_control = []\n",
    "y_test = []\n",
    "X_train = samples.iloc[:,:-6][:'2016.04.30 17:00']\n",
    "X_control = samples.iloc[:,:-6]['2016.04.30 23:00':'2016.05.31 17:00']\n",
    "X_test = samples.iloc[:,:-6]['2016.05.31 23:00':'2016.06.30 17:00']\n",
    "\n",
    "for i in range(-6,0):\n",
    "    y_train.append(samples.iloc[:,i][:'2016.04.30 17:00'])\n",
    "    y_control.append(samples.iloc[:,i]['2016.04.30 23:00':'2016.05.31 17:00'])\n",
    "    y_test.append(samples.iloc[:,i]['2016.05.31 23:00':'2016.06.30 17:00'])"
   ]
  },
  {
   "cell_type": "code",
   "execution_count": null,
   "metadata": {},
   "outputs": [
    {
     "data": {
      "application/vnd.jupyter.widget-view+json": {
       "model_id": "1ff0f294f66a4402a76dc46a8d0ee10d",
       "version_major": 2,
       "version_minor": 0
      },
      "text/plain": [
       "HBox(children=(IntProgress(value=0, max=6), HTML(value='')))"
      ]
     },
     "metadata": {},
     "output_type": "display_data"
    }
   ],
   "source": [
    "Q_control = []\n",
    "for i in tqdm_notebook(range(6)):\n",
    "    model = ensemble.RandomForestRegressor(random_state=1,n_estimators=100, \n",
    "                                           max_features=int(len(X_train.columns)/3)+1,n_jobs=-1)\n",
    "    model.fit(X_train,y_train[i])\n",
    "    predict = model.predict(X_control)        \n",
    "    Q = metrics.mean_absolute_error(y_control[i], predict)\n",
    "    Q_control.append(Q)\n",
    "    \n",
    "Q_control = sum(Q_control) / 6\n",
    "print(f'Ошибка прогноза: {Q_control:.1f}')"
   ]
  },
  {
   "cell_type": "markdown",
   "metadata": {},
   "source": [
    "Ошибка уменьшилась еще на 0.3 :)"
   ]
  },
  {
   "cell_type": "code",
   "execution_count": 19,
   "metadata": {},
   "outputs": [
    {
     "data": {
      "image/png": "[encoded data removed]",
      "text/plain": [
       "<Figure size 1152x720 with 1 Axes>"
      ]
     },
     "metadata": {},
     "output_type": "display_data"
    }
   ],
   "source": [
    "plt.figure(figsize=(16,10))\n",
    "plt.barh(X_train.columns, model.feature_importances_, align='center')\n",
    "plt.show()"
   ]
  },
  {
   "cell_type": "markdown",
   "metadata": {},
   "source": [
    "### Прогноз на июнь"
   ]
  },
  {
   "cell_type": "markdown",
   "metadata": {},
   "source": [
    "В итоге ошибка упала на 0.6.\n",
    "\n",
    "Обучим модели на майских данных и сделаем прогноз на июнь:"
   ]
  },
  {
   "cell_type": "code",
   "execution_count": 24,
   "metadata": {},
   "outputs": [],
   "source": [
    "y_train = []\n",
    "y_test = []\n",
    "X_train = samples.iloc[:,:-6][:'2016.05.31 17:00']\n",
    "X_test = samples.iloc[:,:-6]['2016.05.31 23:00':'2016.06.30 17:00']\n",
    "\n",
    "for i in range(-6,0):\n",
    "    y_train.append(samples.iloc[:,i][:'2016.05.31 17:00'])\n",
    "    y_test.append(samples.iloc[:,i]['2016.05.31 23:00':'2016.06.30 17:00'])"
   ]
  },
  {
   "cell_type": "code",
   "execution_count": 25,
   "metadata": {},
   "outputs": [
    {
     "data": {
      "application/vnd.jupyter.widget-view+json": {
       "model_id": "2c6a7cab2f0d469788fe44cf422f9445",
       "version_major": 2,
       "version_minor": 0
      },
      "text/plain": [
       "HBox(children=(IntProgress(value=0, max=6), HTML(value='')))"
      ]
     },
     "metadata": {},
     "output_type": "display_data"
    },
    {
     "name": "stdout",
     "output_type": "stream",
     "text": [
      "\n",
      "Ошибка прогноза: 15.9\n"
     ]
    }
   ],
   "source": [
    "Q_test = []\n",
    "predict_kaggle = []\n",
    "regions = X_test.region.values\n",
    "for i in tqdm_notebook(range(6)):\n",
    "    model = ensemble.RandomForestRegressor(random_state=1,n_estimators=100, \n",
    "                                           max_features=int(len(X_train.columns)/3)+1,n_jobs=-1)\n",
    "    model.fit(X_train,y_train[i])\n",
    "    predict = model.predict(X_test)\n",
    "        \n",
    "    Q = metrics.mean_absolute_error(y_test[i], predict)\n",
    "    Q_test.append(Q)\n",
    "    \n",
    "    for j,t in enumerate(X_test.index):\n",
    "        region = regions[j]\n",
    "        idx = '_'.join([str(int(region)),str(t.date()),str(t.hour),str(i+1)])\n",
    "        y = str((predict[j]))\n",
    "        answer = ','.join([idx, y])\n",
    "        predict_kaggle.append(answer)\n",
    "    \n",
    "Q_test = sum(Q_test) / 6\n",
    "print(f'Ошибка прогноза: {Q_test:.1f}')"
   ]
  },
  {
   "cell_type": "code",
   "execution_count": 26,
   "metadata": {},
   "outputs": [
    {
     "name": "stdout",
     "output_type": "stream",
     "text": [
      "1075_2016-05-31_23_1,23.92\n",
      "1075_2016-06-01_0_1,15.88\n",
      "1075_2016-06-01_1_1,8.3\n",
      "1075_2016-06-01_2_1,4.18\n",
      "1075_2016-06-01_3_1,4.56\n",
      "1075_2016-06-01_4_1,8.99\n",
      "1075_2016-06-01_5_1,20.14\n",
      "1075_2016-06-01_6_1,47.82\n",
      "1075_2016-06-01_7_1,72.53\n",
      "1075_2016-06-01_8_1,65.64\n"
     ]
    }
   ],
   "source": [
    "print('\\n'.join(predict_kaggle[:10]))"
   ]
  },
  {
   "cell_type": "code",
   "execution_count": 27,
   "metadata": {},
   "outputs": [],
   "source": [
    "with open('results.csv','w') as f:\n",
    "    f.write('id,y\\n')\n",
    "    f.write('\\n'.join(predict_kaggle))"
   ]
  },
  {
   "cell_type": "markdown",
   "metadata": {},
   "source": [
    "На kaggle получилось score = 15.89617\n",
    "\n",
    "Спасибо за внимание)"
   ]
  }
 ],
 "metadata": {
  "kernelspec": {
   "display_name": "Python 3",
   "language": "python",
   "name": "python3"
  },
  "language_info": {
   "codemirror_mode": {
    "name": "ipython",
    "version": 3
   },
   "file_extension": ".py",
   "mimetype": "text/x-python",
   "name": "python",
   "nbconvert_exporter": "python",
   "pygments_lexer": "ipython3",
   "version": "3.7.0"
  }
 },
 "nbformat": 4,
 "nbformat_minor": 2
}
